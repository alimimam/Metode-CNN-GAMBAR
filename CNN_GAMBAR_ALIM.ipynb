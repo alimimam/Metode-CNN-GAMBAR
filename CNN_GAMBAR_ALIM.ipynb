{
  "nbformat": 4,
  "nbformat_minor": 0,
  "metadata": {
    "colab": {
      "provenance": []
    },
    "kernelspec": {
      "name": "python3",
      "display_name": "Python 3"
    },
    "language_info": {
      "name": "python"
    }
  },
  "cells": [
    {
      "cell_type": "code",
      "execution_count": 1,
      "metadata": {
        "id": "M3NFf_YsmAXX"
      },
      "outputs": [],
      "source": [
        "import numpy as np\n",
        "import pandas as pd\n",
        "import matplotlib.pyplot as plt\n",
        "import tensorflow as tf"
      ]
    },
    {
      "cell_type": "code",
      "source": [
        "data = pd.read_csv('train.csv')\n",
        "print(data.info())"
      ],
      "metadata": {
        "id": "aBpFPL2imGlI",
        "colab": {
          "base_uri": "https://localhost:8080/"
        },
        "outputId": "88131dfc-eddf-4e63-f23c-a09675a9f450"
      },
      "execution_count": 2,
      "outputs": [
        {
          "output_type": "stream",
          "name": "stdout",
          "text": [
            "<class 'pandas.core.frame.DataFrame'>\n",
            "RangeIndex: 42000 entries, 0 to 41999\n",
            "Columns: 785 entries, label to pixel783\n",
            "dtypes: int64(785)\n",
            "memory usage: 251.5 MB\n",
            "None\n"
          ]
        }
      ]
    },
    {
      "cell_type": "code",
      "source": [
        "train_data = data.head(37800)\n",
        "val_data = data.tail(4200)\n",
        "\n",
        "train_labels = train_data.pop('label')\n",
        "val_labels = val_data.pop('label')"
      ],
      "metadata": {
        "id": "hK9du5JDmG_H"
      },
      "execution_count": 3,
      "outputs": []
    },
    {
      "cell_type": "code",
      "source": [
        "tf_train_data = tf.data.Dataset.from_tensor_slices((train_data.values, train_labels.values))\n",
        "tf_val_data = tf.data.Dataset.from_tensor_slices((val_data.values, val_labels.values))\n",
        "\n",
        "print(tf_train_data)\n",
        "print(tf_val_data)"
      ],
      "metadata": {
        "id": "Uh9D6CBHmHSJ",
        "colab": {
          "base_uri": "https://localhost:8080/"
        },
        "outputId": "94bc5d6f-a294-4fdd-a7b6-c57492090390"
      },
      "execution_count": 4,
      "outputs": [
        {
          "output_type": "stream",
          "name": "stdout",
          "text": [
            "<_TensorSliceDataset element_spec=(TensorSpec(shape=(784,), dtype=tf.int64, name=None), TensorSpec(shape=(), dtype=tf.int64, name=None))>\n",
            "<_TensorSliceDataset element_spec=(TensorSpec(shape=(784,), dtype=tf.int64, name=None), TensorSpec(shape=(), dtype=tf.int64, name=None))>\n"
          ]
        }
      ]
    },
    {
      "cell_type": "code",
      "source": [
        "plt.figure(figsize=(10,10))\n",
        "i = 0\n",
        "\n",
        "for image, label in tf_train_data.take(5):\n",
        "    plt.subplot(1,5,i+1)\n",
        "    plt.xticks([])\n",
        "    plt.yticks([])\n",
        "    plt.grid(False)\n",
        "\n",
        "    plt.imshow(image.numpy().reshape((28, 28)), cmap='gray')\n",
        "    plt.xlabel(label.numpy())\n",
        "\n",
        "    i = i + 1"
      ],
      "metadata": {
        "id": "FNKwsvWQsFMD",
        "colab": {
          "base_uri": "https://localhost:8080/",
          "height": 190
        },
        "outputId": "e61ce601-3ba1-46f9-a519-a0fe83bb9163"
      },
      "execution_count": 5,
      "outputs": [
        {
          "output_type": "display_data",
          "data": {
            "text/plain": [
              "<Figure size 1000x1000 with 5 Axes>"
            ],
            "image/png": "[encoded data removed]"
          },
          "metadata": {}
        }
      ]
    },
    {
      "cell_type": "code",
      "source": [
        "def preprocess_image(image, label):\n",
        "    image = tf.reshape(image, [28, 28, 1])\n",
        "    image = tf.cast(image, tf.float32) / 255.\n",
        "\n",
        "    return image, label\n",
        "\n",
        "tf_train_data = tf_train_data.map(\n",
        "    preprocess_image,\n",
        "    num_parallel_calls=tf.data.experimental.AUTOTUNE\n",
        ")\n",
        "\n",
        "tf_val_data = tf_val_data.map(\n",
        "    preprocess_image,\n",
        "    num_parallel_calls=tf.data.experimental.AUTOTUNE\n",
        ")\n",
        "\n",
        "print(tf_train_data)\n",
        "print(tf_val_data)"
      ],
      "metadata": {
        "id": "dvei78jEsFjK",
        "colab": {
          "base_uri": "https://localhost:8080/"
        },
        "outputId": "1a24b4e9-ab96-44f3-af0d-fa8df9ffbcc5"
      },
      "execution_count": 6,
      "outputs": [
        {
          "output_type": "stream",
          "name": "stdout",
          "text": [
            "<_ParallelMapDataset element_spec=(TensorSpec(shape=(28, 28, 1), dtype=tf.float32, name=None), TensorSpec(shape=(), dtype=tf.int64, name=None))>\n",
            "<_ParallelMapDataset element_spec=(TensorSpec(shape=(28, 28, 1), dtype=tf.float32, name=None), TensorSpec(shape=(), dtype=tf.int64, name=None))>\n"
          ]
        }
      ]
    },
    {
      "cell_type": "code",
      "source": [
        "def pipeline(tf_data):\n",
        "    tf_data = tf_data.shuffle(100)\n",
        "    tf_data = tf_data.batch(32)\n",
        "    tf_data = tf_data.prefetch(tf.data.experimental.AUTOTUNE)\n",
        "\n",
        "    return tf_data\n",
        "\n",
        "tf_train_data = pipeline(tf_train_data)\n",
        "tf_val_data = pipeline(tf_val_data)\n",
        "\n",
        "print(tf_train_data)\n",
        "print(tf_val_data)"
      ],
      "metadata": {
        "id": "rmd2RSEFsF39",
        "colab": {
          "base_uri": "https://localhost:8080/"
        },
        "outputId": "6f16d3a7-a7ff-4c5e-b6ff-1bdec692a54c"
      },
      "execution_count": 7,
      "outputs": [
        {
          "output_type": "stream",
          "name": "stdout",
          "text": [
            "<_PrefetchDataset element_spec=(TensorSpec(shape=(None, 28, 28, 1), dtype=tf.float32, name=None), TensorSpec(shape=(None,), dtype=tf.int64, name=None))>\n",
            "<_PrefetchDataset element_spec=(TensorSpec(shape=(None, 28, 28, 1), dtype=tf.float32, name=None), TensorSpec(shape=(None,), dtype=tf.int64, name=None))>\n"
          ]
        }
      ]
    },
    {
      "cell_type": "code",
      "source": [
        "model = tf.keras.Sequential([\n",
        "    tf.keras.layers.Conv2D(6, (5, 5), activation='relu', padding='same', input_shape=(28, 28, 1)),\n",
        "    tf.keras.layers.MaxPooling2D((2, 2)),\n",
        "\n",
        "    tf.keras.layers.Conv2D(16, (5, 5), activation='relu', padding='valid'),\n",
        "    tf.keras.layers.MaxPooling2D((2, 2)),\n",
        "\n",
        "    tf.keras.layers.Flatten(),\n",
        "    tf.keras.layers.Dense(120, activation='relu'),\n",
        "    tf.keras.layers.Dense(84, activation='relu'),\n",
        "\n",
        "    tf.keras.layers.Dense(10, activation='softmax'),\n",
        "])"
      ],
      "metadata": {
        "id": "ImnSZYpJss11"
      },
      "execution_count": 8,
      "outputs": []
    },
    {
      "cell_type": "code",
      "source": [
        "optimiser = tf.keras.optimizers.Adam(learning_rate=0.001)\n",
        "\n",
        "model.compile(\n",
        "    optimizer=optimiser,\n",
        "    loss='sparse_categorical_crossentropy',\n",
        "    metrics=['accuracy'])\n",
        "\n",
        "model.summary()"
      ],
      "metadata": {
        "id": "mTIfXwCYstMs",
        "colab": {
          "base_uri": "https://localhost:8080/"
        },
        "outputId": "fa36ea31-3250-4772-bc67-a37731ddd94e"
      },
      "execution_count": 9,
      "outputs": [
        {
          "output_type": "stream",
          "name": "stdout",
          "text": [
            "Model: \"sequential\"\n",
            "_________________________________________________________________\n",
            " Layer (type)                Output Shape              Param #   \n",
            "=================================================================\n",
            " conv2d (Conv2D)             (None, 28, 28, 6)         156       \n",
            "                                                                 \n",
            " max_pooling2d (MaxPooling2  (None, 14, 14, 6)         0         \n",
            " D)                                                              \n",
            "                                                                 \n",
            " conv2d_1 (Conv2D)           (None, 10, 10, 16)        2416      \n",
            "                                                                 \n",
            " max_pooling2d_1 (MaxPoolin  (None, 5, 5, 16)          0         \n",
            " g2D)                                                            \n",
            "                                                                 \n",
            " flatten (Flatten)           (None, 400)               0         \n",
            "                                                                 \n",
            " dense (Dense)               (None, 120)               48120     \n",
            "                                                                 \n",
            " dense_1 (Dense)             (None, 84)                10164     \n",
            "                                                                 \n",
            " dense_2 (Dense)             (None, 10)                850       \n",
            "                                                                 \n",
            "=================================================================\n",
            "Total params: 61706 (241.04 KB)\n",
            "Trainable params: 61706 (241.04 KB)\n",
            "Non-trainable params: 0 (0.00 Byte)\n",
            "_________________________________________________________________\n"
          ]
        }
      ]
    },
    {
      "cell_type": "code",
      "source": [
        "callbacks = [\n",
        "    tf.keras.callbacks.ReduceLROnPlateau(monitor='loss', patience=2, verbose=1),\n",
        "    tf.keras.callbacks.EarlyStopping(monitor='loss', patience=5, verbose=1),\n",
        "]"
      ],
      "metadata": {
        "id": "-pl6rAXmsyNe"
      },
      "execution_count": 10,
      "outputs": []
    },
    {
      "cell_type": "code",
      "source": [
        "train_log = model.fit(\n",
        "    tf_train_data,\n",
        "    validation_data=tf_val_data,\n",
        "    epochs=30,\n",
        "    callbacks=callbacks\n",
        ")"
      ],
      "metadata": {
        "colab": {
          "base_uri": "https://localhost:8080/"
        },
        "id": "l7VQGyW7sy_N",
        "outputId": "e76c2dc1-fab9-462f-d289-328eec303179"
      },
      "execution_count": 11,
      "outputs": [
        {
          "output_type": "stream",
          "name": "stdout",
          "text": [
            "Epoch 1/30\n",
            "1182/1182 [==============================] - 28s 22ms/step - loss: 0.2231 - accuracy: 0.9320 - val_loss: 0.0931 - val_accuracy: 0.9714 - lr: 0.0010\n",
            "Epoch 2/30\n",
            "1182/1182 [==============================] - 25s 21ms/step - loss: 0.0712 - accuracy: 0.9782 - val_loss: 0.0847 - val_accuracy: 0.9748 - lr: 0.0010\n",
            "Epoch 3/30\n",
            "1182/1182 [==============================] - 24s 20ms/step - loss: 0.0507 - accuracy: 0.9842 - val_loss: 0.0548 - val_accuracy: 0.9819 - lr: 0.0010\n",
            "Epoch 4/30\n",
            "1182/1182 [==============================] - 27s 23ms/step - loss: 0.0384 - accuracy: 0.9879 - val_loss: 0.0533 - val_accuracy: 0.9814 - lr: 0.0010\n",
            "Epoch 5/30\n",
            "1182/1182 [==============================] - 23s 20ms/step - loss: 0.0286 - accuracy: 0.9913 - val_loss: 0.0510 - val_accuracy: 0.9821 - lr: 0.0010\n",
            "Epoch 6/30\n",
            "1182/1182 [==============================] - 26s 22ms/step - loss: 0.0247 - accuracy: 0.9922 - val_loss: 0.0582 - val_accuracy: 0.9814 - lr: 0.0010\n",
            "Epoch 7/30\n",
            "1182/1182 [==============================] - 29s 24ms/step - loss: 0.0194 - accuracy: 0.9938 - val_loss: 0.0542 - val_accuracy: 0.9831 - lr: 0.0010\n",
            "Epoch 8/30\n",
            "1182/1182 [==============================] - 25s 21ms/step - loss: 0.0165 - accuracy: 0.9948 - val_loss: 0.0644 - val_accuracy: 0.9824 - lr: 0.0010\n",
            "Epoch 9/30\n",
            "1182/1182 [==============================] - 25s 21ms/step - loss: 0.0154 - accuracy: 0.9948 - val_loss: 0.0644 - val_accuracy: 0.9829 - lr: 0.0010\n",
            "Epoch 10/30\n",
            "1182/1182 [==============================] - 27s 22ms/step - loss: 0.0146 - accuracy: 0.9952 - val_loss: 0.0573 - val_accuracy: 0.9857 - lr: 0.0010\n",
            "Epoch 11/30\n",
            "1182/1182 [==============================] - 29s 25ms/step - loss: 0.0121 - accuracy: 0.9961 - val_loss: 0.0586 - val_accuracy: 0.9862 - lr: 0.0010\n",
            "Epoch 12/30\n",
            "1182/1182 [==============================] - 25s 21ms/step - loss: 0.0107 - accuracy: 0.9966 - val_loss: 0.0548 - val_accuracy: 0.9864 - lr: 0.0010\n",
            "Epoch 13/30\n",
            "1182/1182 [==============================] - 26s 22ms/step - loss: 0.0134 - accuracy: 0.9957 - val_loss: 0.0576 - val_accuracy: 0.9836 - lr: 0.0010\n",
            "Epoch 14/30\n",
            "1182/1182 [==============================] - 26s 22ms/step - loss: 0.0073 - accuracy: 0.9976 - val_loss: 0.0710 - val_accuracy: 0.9852 - lr: 0.0010\n",
            "Epoch 15/30\n",
            "1182/1182 [==============================] - 27s 23ms/step - loss: 0.0097 - accuracy: 0.9971 - val_loss: 0.0810 - val_accuracy: 0.9824 - lr: 0.0010\n",
            "Epoch 16/30\n",
            "1179/1182 [============================>.] - ETA: 0s - loss: 0.0083 - accuracy: 0.9975\n",
            "Epoch 16: ReduceLROnPlateau reducing learning rate to 0.00010000000474974513.\n",
            "1182/1182 [==============================] - 26s 22ms/step - loss: 0.0084 - accuracy: 0.9975 - val_loss: 0.0723 - val_accuracy: 0.9840 - lr: 0.0010\n",
            "Epoch 17/30\n",
            "1182/1182 [==============================] - 30s 26ms/step - loss: 0.0035 - accuracy: 0.9989 - val_loss: 0.0564 - val_accuracy: 0.9879 - lr: 1.0000e-04\n",
            "Epoch 18/30\n",
            "1182/1182 [==============================] - 31s 26ms/step - loss: 9.7166e-04 - accuracy: 0.9999 - val_loss: 0.0533 - val_accuracy: 0.9890 - lr: 1.0000e-04\n",
            "Epoch 19/30\n",
            "1182/1182 [==============================] - 29s 24ms/step - loss: 5.1249e-04 - accuracy: 0.9999 - val_loss: 0.0549 - val_accuracy: 0.9895 - lr: 1.0000e-04\n",
            "Epoch 20/30\n",
            "1182/1182 [==============================] - 28s 24ms/step - loss: 2.8736e-04 - accuracy: 0.9999 - val_loss: 0.0561 - val_accuracy: 0.9895 - lr: 1.0000e-04\n",
            "Epoch 21/30\n",
            "1182/1182 [==============================] - 25s 22ms/step - loss: 1.7230e-04 - accuracy: 1.0000 - val_loss: 0.0584 - val_accuracy: 0.9895 - lr: 1.0000e-04\n",
            "Epoch 22/30\n",
            "1182/1182 [==============================] - 30s 25ms/step - loss: 1.0567e-04 - accuracy: 1.0000 - val_loss: 0.0606 - val_accuracy: 0.9895 - lr: 1.0000e-04\n",
            "Epoch 23/30\n",
            "1182/1182 [==============================] - 31s 26ms/step - loss: 6.5570e-05 - accuracy: 1.0000 - val_loss: 0.0626 - val_accuracy: 0.9893 - lr: 1.0000e-04\n",
            "Epoch 24/30\n",
            "1182/1182 [==============================] - 31s 26ms/step - loss: 3.8307e-05 - accuracy: 1.0000 - val_loss: 0.0652 - val_accuracy: 0.9895 - lr: 1.0000e-04\n",
            "Epoch 25/30\n",
            "1180/1182 [============================>.] - ETA: 0s - loss: 2.2753e-05 - accuracy: 1.0000\n",
            "Epoch 25: ReduceLROnPlateau reducing learning rate to 1.0000000474974514e-05.\n",
            "1182/1182 [==============================] - 28s 24ms/step - loss: 2.2730e-05 - accuracy: 1.0000 - val_loss: 0.0681 - val_accuracy: 0.9895 - lr: 1.0000e-04\n",
            "Epoch 26/30\n",
            "1182/1182 [==============================] - 28s 23ms/step - loss: 1.2321e-05 - accuracy: 1.0000 - val_loss: 0.0687 - val_accuracy: 0.9898 - lr: 1.0000e-05\n",
            "Epoch 27/30\n",
            "1179/1182 [============================>.] - ETA: 0s - loss: 1.0943e-05 - accuracy: 1.0000\n",
            "Epoch 27: ReduceLROnPlateau reducing learning rate to 1.0000000656873453e-06.\n",
            "1182/1182 [==============================] - 28s 24ms/step - loss: 1.0937e-05 - accuracy: 1.0000 - val_loss: 0.0696 - val_accuracy: 0.9898 - lr: 1.0000e-05\n",
            "Epoch 28/30\n",
            "1182/1182 [==============================] - 28s 23ms/step - loss: 9.6270e-06 - accuracy: 1.0000 - val_loss: 0.0697 - val_accuracy: 0.9898 - lr: 1.0000e-06\n",
            "Epoch 29/30\n",
            "1180/1182 [============================>.] - ETA: 0s - loss: 9.4576e-06 - accuracy: 1.0000\n",
            "Epoch 29: ReduceLROnPlateau reducing learning rate to 1.0000001111620805e-07.\n",
            "1182/1182 [==============================] - 27s 23ms/step - loss: 9.4744e-06 - accuracy: 1.0000 - val_loss: 0.0698 - val_accuracy: 0.9898 - lr: 1.0000e-06\n",
            "Epoch 30/30\n",
            "1182/1182 [==============================] - 28s 24ms/step - loss: 9.2818e-06 - accuracy: 1.0000 - val_loss: 0.0698 - val_accuracy: 0.9898 - lr: 1.0000e-07\n"
          ]
        }
      ]
    },
    {
      "cell_type": "code",
      "source": [
        "plt.plot(train_log.history['accuracy'], label='accuracy')\n",
        "plt.plot(train_log.history['val_accuracy'], label = 'val_accuracy')\n",
        "plt.xlabel('Epoch')\n",
        "plt.ylabel('Accuracy')\n",
        "plt.legend()\n",
        "\n",
        "print('Training accuracy: %f' % train_log.history['accuracy'][-1])\n",
        "print('Validation accuracy: %f' % train_log.history['val_accuracy'][-1])"
      ],
      "metadata": {
        "id": "Egn2igtK0lrr",
        "colab": {
          "base_uri": "https://localhost:8080/",
          "height": 484
        },
        "outputId": "9a8e0703-dced-4e0d-a6d3-be6f90de8ef0"
      },
      "execution_count": 12,
      "outputs": [
        {
          "output_type": "stream",
          "name": "stdout",
          "text": [
            "Training accuracy: 1.000000\n",
            "Validation accuracy: 0.989762\n"
          ]
        },
        {
          "output_type": "display_data",
          "data": {
            "text/plain": [
              "<Figure size 640x480 with 1 Axes>"
            ],
            "image/png": "[encoded data removed]"
          },
          "metadata": {}
        }
      ]
    },
    {
      "cell_type": "code",
      "source": [
        "test_data = pd.read_csv('test.csv')\n",
        "tf_test_data = tf.data.Dataset.from_tensor_slices(([test_data.to_numpy().reshape(len(test_data), 28, 28, 1)]))"
      ],
      "metadata": {
        "id": "wp5Q7h9es2B4"
      },
      "execution_count": 13,
      "outputs": []
    },
    {
      "cell_type": "code",
      "source": [
        "predictions = model.predict(tf_test_data)\n",
        "predictions = np.argmax(predictions, axis=1)"
      ],
      "metadata": {
        "id": "l3gkD5cxs2UW",
        "colab": {
          "base_uri": "https://localhost:8080/"
        },
        "outputId": "916c4ee1-44ad-48b5-c18f-d016b0ce0f32"
      },
      "execution_count": 14,
      "outputs": [
        {
          "output_type": "stream",
          "name": "stdout",
          "text": [
            "1/1 [==============================] - 6s 6s/step\n"
          ]
        }
      ]
    },
    {
      "cell_type": "code",
      "source": [
        "plt.figure(figsize=(10,10))\n",
        "\n",
        "for i, row in test_data.head(15).iterrows():\n",
        "    plt.subplot(3,5,i+1)\n",
        "    plt.xticks([])\n",
        "    plt.yticks([])\n",
        "    plt.grid(False)\n",
        "\n",
        "    plt.imshow(row.values.reshape((28, 28)), cmap='gray')\n",
        "    plt.xlabel(predictions[i])"
      ],
      "metadata": {
        "id": "92ELVuxqyD1B",
        "colab": {
          "base_uri": "https://localhost:8080/",
          "height": 733
        },
        "outputId": "f0c3a41a-45d5-42a7-c5d5-2045ea16a90a"
      },
      "execution_count": 15,
      "outputs": [
        {
          "output_type": "display_data",
          "data": {
            "text/plain": [
              "<Figure size 1000x1000 with 15 Axes>"
            ],
            "image/png": "[encoded data removed]"
          },
          "metadata": {}
        }
      ]
    },
    {
      "cell_type": "code",
      "source": [
        "predictions_df = pd.DataFrame(data={'Label': predictions}, index=pd.RangeIndex(start=1, stop=28001))\n",
        "predictions_df.index = predictions_df.index.rename('ImageId')\n",
        "\n",
        "predictions_df.to_csv('submission_file.csv')"
      ],
      "metadata": {
        "id": "bLNv10i33Owy"
      },
      "execution_count": 16,
      "outputs": []
    }
  ]
}